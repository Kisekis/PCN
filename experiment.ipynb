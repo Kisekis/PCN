{
 "cells": [
  {
   "cell_type": "code",
   "execution_count": 3,
   "id": "28f0415e",
   "metadata": {},
   "outputs": [],
   "source": [
    "import networkx as nx\n",
    "import matplotlib.pyplot as plt\n",
    "import os\n",
    "import json\n",
    "import random\n",
    "import numpy as np\n",
    "import itertools\n",
    "import csv\n",
    "from matplotlib import pyplot as plt"
   ]
  },
  {
   "cell_type": "code",
   "execution_count": 4,
   "id": "64c4053e",
   "metadata": {},
   "outputs": [],
   "source": [
    "# read file\n",
    "allNode = []\n",
    "path = './nodes/'\n",
    "for file_name in [file for file in os.listdir(path)]:\n",
    "    with open(path + file_name) as json_file:\n",
    "        data = json.load(json_file)\n",
    "        allNode.append(data)"
   ]
  },
  {
   "cell_type": "code",
   "execution_count": null,
   "id": "840d01b3",
   "metadata": {},
   "outputs": [],
   "source": [
    "#create 2 graphs,directed graph \"G\" and undirected graph \"undirected_G\",assign random balance for both sides\n",
    "G = nx.DiGraph()\n",
    "undirected_G = nx.Graph()\n",
    "for node in allNode:\n",
    "    for channel in node[\"channels\"]:\n",
    "        if G.has_edge(node[\"id\"],channel[\"neightbor\"]) or G.has_edge(channel[\"neightbor\"],node[\"id\"]):\n",
    "            continue\n",
    "        capacity = float(channel[\"capacity\"][:-4])\n",
    "        balance1 = random.uniform(0,capacity)\n",
    "        balance2 = capacity-balance1\n",
    "        if balance1 > balance2:\n",
    "            G.add_edge(node[\"id\"],channel[\"neightbor\"],capacity = capacity,balance1 = balance1,balance2 = balance2)\n",
    "            undirected_G.add_edge(node[\"id\"],channel[\"neightbor\"],capacity = capacity,balance1 = balance1,balance2 = balance2)\n",
    "        else:\n",
    "            G.add_edge(channel[\"neightbor\"],node[\"id\"],capacity = capacity,balance1 = balance2,balance2 = balance1)\n",
    "            undirected_G.add_edge(channel[\"neightbor\"],node[\"id\"],capacity = capacity,balance1 = balance2,balance2 = balance1)"
   ]
  },
  {
   "cell_type": "code",
   "execution_count": null,
   "id": "bb30e9ce",
   "metadata": {},
   "outputs": [],
   "source": [
    "# for edge in G.edges:\n",
    "#     print(G[edge[0]][edge[1]][\"balance1\"])\n",
    "#     print(G[edge[0]][edge[1]][\"balance2\"])\n",
    "#     print(G[edge[0]][edge[1]][\"capacity\"])\n",
    "#     print(\"--------\")"
   ]
  },
  {
   "cell_type": "code",
   "execution_count": null,
   "id": "c0692d23",
   "metadata": {},
   "outputs": [],
   "source": [
    "#bfs from source on undirected_G\n",
    "def bfs(source,N):\n",
    "    visited = []\n",
    "    q = []\n",
    "    visited.append(source)\n",
    "    q.append(source)\n",
    "    \n",
    "    while q and len(visited)<N:\n",
    "        s = q.pop(0)\n",
    "        count = 0\n",
    "        for node in undirected_G.neighbors(s):\n",
    "            count += 1\n",
    "            if node not in visited and count<N/10:\n",
    "                visited.append(node)\n",
    "                q.append(node)\n",
    "    return visited"
   ]
  },
  {
   "cell_type": "code",
   "execution_count": null,
   "id": "459a32e8",
   "metadata": {},
   "outputs": [],
   "source": [
    "#get induced subgraph of bfs tree nodes\n",
    "def generateSubgraph(source,N):\n",
    "    subgraph_nodes = bfs(source,N)\n",
    "    H = G.subgraph(subgraph_nodes) #induced subgraph\n",
    "    return H"
   ]
  },
  {
   "cell_type": "code",
   "execution_count": null,
   "id": "44f9eaa1",
   "metadata": {},
   "outputs": [],
   "source": [
    "#random walk on directed graph G\n",
    "def randomWalk(H,path,node,dest,L):\n",
    "    path.append(node)\n",
    "    if node == dest:\n",
    "        return True;\n",
    "    if len(path)>L:\n",
    "        return False;\n",
    "    neighbors = [node for node in H.neighbors(node)]\n",
    "    if len(neighbors) == 0:\n",
    "        return False\n",
    "    next_walk = random.sample(neighbors, 1)[0]\n",
    "    return randomWalk(H,path,next_walk,dest,L)"
   ]
  },
  {
   "cell_type": "code",
   "execution_count": null,
   "id": "3349fb8b",
   "metadata": {},
   "outputs": [],
   "source": [
    "#random select an 枯竭的(?) edge on subgraph H\n",
    "def selectEdge(H,alpha):\n",
    "    while True:\n",
    "        edge = random.sample(list(H.edges), 1)[0]\n",
    "        beta = H[edge[0]][edge[1]][\"balance2\"]/H[edge[0]][edge[1]][\"capacity\"]\n",
    "        if beta < alpha:\n",
    "            return edge"
   ]
  },
  {
   "cell_type": "code",
   "execution_count": null,
   "id": "4bc61718",
   "metadata": {},
   "outputs": [],
   "source": [
    "def test(parameter,edge,H,data):\n",
    "    L = parameter[0]\n",
    "    K = parameter[1]\n",
    "    fail_count = 0\n",
    "    success_count = 0\n",
    "    max_cycle_len = 0\n",
    "    for i in range(0,K):\n",
    "        source = edge[1]\n",
    "        dest = edge[0]\n",
    "        path = []\n",
    "        if randomWalk(H,path,source,dest,L):\n",
    "            success_count+=1\n",
    "            max_cycle_len = max(max_cycle_len,len(path))\n",
    "        else:\n",
    "            fail_count+=1\n",
    "    rate = success_count/K\n",
    "    data += [alpha,L,K,rate,max_cycle_len]\n",
    "    print(\"success : \" + str(success_count))\n",
    "    print(\"fail : \" + str(fail_count))\n",
    "    print(\"rate : \" + str(rate))\n",
    "    print(\"max_cycle len : \" + str(max_cycle_len))\n",
    "#     edge_colors = ['red' if e == edge else 'black' for e in H.edges]\n",
    "#     nx.draw_networkx(H, arrows=True,edge_color = edge_colors,with_labels=False,node_size = 10, pos = nx.random_layout(H))\n",
    "#     print(edge)\n",
    "        "
   ]
  },
  {
   "cell_type": "code",
   "execution_count": null,
   "id": "23036a0a",
   "metadata": {},
   "outputs": [],
   "source": [
    "#cartesian product of parameters\n",
    "parameter_list = []\n",
    "parameter = [\n",
    "    [10, 20, 30, 40, 50, 100, 200, 300, 400, 500, 600, 700, 800, 900, 1000], #L\n",
    "    [100, 200, 500, 1000] #K\n",
    "]\n",
    "for element in itertools.product(*parameter):\n",
    "    parameter_list.append(element)\n",
    "    \n",
    "N = [100, 200, 300, 400, 500, 1000]\n",
    "alpha = 0.5"
   ]
  },
  {
   "cell_type": "code",
   "execution_count": null,
   "id": "da680c87",
   "metadata": {},
   "outputs": [],
   "source": [
    "data_list = []\n",
    "source = random.sample(list(G.nodes), 1)[0]\n",
    "for n in N:\n",
    "    H = generateSubgraph(source,n)\n",
    "    edge = selectEdge(H,alpha)\n",
    "    for p in parameter_list:\n",
    "        data = [n]\n",
    "        test(p,edge,H,data)\n",
    "        data_list.append(data)\n",
    "        print(data)\n",
    "        print(\"------------------------------------\")"
   ]
  },
  {
   "cell_type": "code",
   "execution_count": null,
   "id": "266f2190",
   "metadata": {},
   "outputs": [],
   "source": [
    "#save\n",
    "with open(\"out.csv\", \"w\", newline=\"\") as f:\n",
    "    writer = csv.writer(f)\n",
    "    writer.writerows(data_list)"
   ]
  },
  {
   "cell_type": "code",
   "execution_count": null,
   "id": "e5706a5b",
   "metadata": {},
   "outputs": [],
   "source": [
    "arr = np.array(data_list)"
   ]
  },
  {
   "cell_type": "code",
   "execution_count": null,
   "id": "9523b132",
   "metadata": {},
   "outputs": [],
   "source": [
    "def filterArr(arr,N,L,K):\n",
    "    filter_arr = []\n",
    "    for element in arr:\n",
    "        c1 = N == -1 or element[0] == N\n",
    "        c2 = L == -1 or element[2] == K\n",
    "        c3 = K == -1 or element[3] == K\n",
    "        if c1 and c2 and c3:\n",
    "            filter_arr.append(True)\n",
    "        else:\n",
    "            filter_arr.append(False)\n",
    "    return filter_arr"
   ]
  },
  {
   "cell_type": "code",
   "execution_count": null,
   "id": "a57cb596",
   "metadata": {},
   "outputs": [],
   "source": [
    "figure, axis = plt.subplots(2, 3,figsize=(15,15))\n",
    "\n",
    "arr0 = arr[filterArr(arr,100,-1,1000)]\n",
    "arr1 = arr[filterArr(arr,200,-1,1000)]\n",
    "arr2 = arr[filterArr(arr,300,-1,1000)]\n",
    "arr3 = arr[filterArr(arr,400,-1,1000)]\n",
    "arr4 = arr[filterArr(arr,500,-1,1000)]\n",
    "arr5 = arr[filterArr(arr,1000,-1,1000)]\n",
    "\n",
    "axis[0, 0].plot(arr0[:,2], arr0[:,4])\n",
    "axis[0, 0].set_title(\"N = \" + str(arr0[0][0]))\n",
    "\n",
    "axis[0, 1].plot(arr1[:,2], arr1[:,4])\n",
    "axis[0, 1].set_title(\"N = \" + str(arr1[0][0]))\n",
    "\n",
    "axis[1, 0].plot(arr2[:,2], arr2[:,4])\n",
    "axis[1, 0].set_title(\"N = \" + str(arr2[0][0]))\n",
    "\n",
    "axis[1, 1].plot(arr3[:,2], arr3[:,4])\n",
    "axis[1, 1].set_title(\"N = \" + str(arr3[0][0]))\n",
    "\n",
    "axis[0, 2].plot(arr4[:,2], arr4[:,4])\n",
    "axis[0, 2].set_title(\"N = \" + str(arr4[0][0]))\n",
    "\n",
    "axis[1, 2].plot(arr5[:,2], arr5[:,4])\n",
    "axis[1, 2].set_title(\"N = \" + str(arr5[0][0]))\n",
    "plt.show()"
   ]
  }
 ],
 "metadata": {
  "kernelspec": {
   "display_name": "Python 3 (ipykernel)",
   "language": "python",
   "name": "python3"
  },
  "language_info": {
   "codemirror_mode": {
    "name": "ipython",
    "version": 3
   },
   "file_extension": ".py",
   "mimetype": "text/x-python",
   "name": "python",
   "nbconvert_exporter": "python",
   "pygments_lexer": "ipython3",
   "version": "3.8.11"
  }
 },
 "nbformat": 4,
 "nbformat_minor": 5
}
